{
 "cells": [
  {
   "cell_type": "code",
   "execution_count": 141,
   "metadata": {},
   "outputs": [],
   "source": [
    "from neo4j import GraphDatabase\n",
    "import re"
   ]
  },
  {
   "cell_type": "code",
   "execution_count": 73,
   "metadata": {},
   "outputs": [],
   "source": [
    "class neo4j_connection:\n",
    "    \n",
    "    \n",
    "    def __init__(self, uri, user, password):\n",
    "        self._driver = GraphDatabase.driver(uri, auth=(user, password))\n",
    "        \n",
    "        \n",
    "    def close(self):\n",
    "        self._driver.close()\n",
    "\n",
    "        \n",
    "    def run(self, string):\n",
    "        with self._driver.session() as session:\n",
    "            session.run(string) \n",
    "        \n",
    "        \n",
    "    def nuke_it(self):\n",
    "        nuke_string = \"\"\"\n",
    "            MATCH (n)\n",
    "            DETACH DELETE n\n",
    "            \"\"\"\n",
    "        with self._driver.session() as session:\n",
    "            session.run(nuke_string)"
   ]
  },
  {
   "cell_type": "code",
   "execution_count": 74,
   "metadata": {},
   "outputs": [],
   "source": [
    "uri = \"bolt://localhost:7687\"\n",
    "user = \"neo4j\"\n",
    "password = \"47westrange\""
   ]
  },
  {
   "cell_type": "code",
   "execution_count": 75,
   "metadata": {},
   "outputs": [],
   "source": [
    "example = neo4j_connection(uri, user, password)"
   ]
  },
  {
   "cell_type": "code",
   "execution_count": 35,
   "metadata": {},
   "outputs": [],
   "source": [
    "example.run(\"\"\"\n",
    "    CREATE (john:Person {name: 'John'})\n",
    "    CREATE (joe:Person {name: 'Joe'})\n",
    "    CREATE (steve:Person {name: 'Steve'})\n",
    "    CREATE (sara:Person {name: 'Sara'})\n",
    "    CREATE (maria:Person {name: 'Maria'})\n",
    "    CREATE (john)-[:FRIEND]->(joe)-[:FRIEND]->(steve)\n",
    "    CREATE (john)-[:FRIEND]->(sara)-[:FRIEND]->(maria)\n",
    "\"\"\")"
   ]
  },
  {
   "cell_type": "code",
   "execution_count": 36,
   "metadata": {},
   "outputs": [],
   "source": [
    "example.nuke_it()"
   ]
  },
  {
   "cell_type": "code",
   "execution_count": 37,
   "metadata": {},
   "outputs": [],
   "source": [
    "example.close()"
   ]
  },
  {
   "cell_type": "code",
   "execution_count": 76,
   "metadata": {},
   "outputs": [],
   "source": [
    "import json\n",
    "\n",
    "with open('/Users/mattkirby/repos/Science-NLP/documents.json') as json_file:\n",
    "    data = dict(json.load(json_file))"
   ]
  },
  {
   "cell_type": "code",
   "execution_count": 77,
   "metadata": {},
   "outputs": [],
   "source": [
    "import pandas as pd\n",
    "\n",
    "df = pd.DataFrame(data).T"
   ]
  },
  {
   "cell_type": "code",
   "execution_count": 78,
   "metadata": {},
   "outputs": [
    {
     "data": {
      "text/plain": [
       "Index(['contents', 'emails', 'filename', 'institutions', 'people', 'places'], dtype='object')"
      ]
     },
     "execution_count": 78,
     "metadata": {},
     "output_type": "execute_result"
    }
   ],
   "source": [
    "df.columns"
   ]
  },
  {
   "cell_type": "code",
   "execution_count": 101,
   "metadata": {},
   "outputs": [],
   "source": [
    "df.index = df.index.str.replace('-', '_')\n",
    "df.index = df.index.str.replace(' ', '_')\n",
    "df.index = df.index.str.replace('(', '_')\n",
    "df.index = df.index.str.replace(')', '_')\n",
    "df.index = df.index.str.replace('90', 'Ninety')\n",
    "df.index = df.index.str.replace('.', '_')\n",
    "df.index = df.index.str.replace('?', '_')"
   ]
  },
  {
   "cell_type": "code",
   "execution_count": 110,
   "metadata": {},
   "outputs": [],
   "source": [
    "df['people'] = df['people'].apply(lambda x: list(set(x))).tolist()"
   ]
  },
  {
   "cell_type": "code",
   "execution_count": 146,
   "metadata": {},
   "outputs": [
    {
     "data": {
      "text/plain": [
       "Index(['Navigation_to_Small_Bodies', 'ASTRONOMICAL_ENGINEERING',\n",
       "       'Phase_II_of_the_Main_Belt_Asteroid_Spectrosopic_Survey',\n",
       "       'Devlopment_of_Xenon_Hall_Thrusters',\n",
       "       'Mine_planning_for_Asteroid_Ore_Bodies', 'CSR_in_space',\n",
       "       'Interplanetary_Trajectory', 'SmallSat_Constelation',\n",
       "       'Directed_Passpermia', 'The_Rise_of_Interplanetary_Cubesats',\n",
       "       'Launch_and_Deployment_of_Distributted_Small_Satelite_Systems',\n",
       "       'Options_and_Uncertanties_in_Planetary_Defence',\n",
       "       'The_Compositional_Structure_of_The_Asteroid_Belt',\n",
       "       'Vacuum_induction_melting_of_NiTi_shape_memory', 'Project_NERVA',\n",
       "       'NEO_Characterization',\n",
       "       'Photometric_survey_and_taxonomic_identifications_of_92_near_Earth_asteroids',\n",
       "       'Organic_matter_preserved_in_3_billion_year_old_mudstones',\n",
       "       'Defining_a_Successful_Asteroid_Mining_Program', 'Novum',\n",
       "       'New_Venice_Project', 'Asteroid_Retrieval_Feasibility',\n",
       "       'Meterorite_as_raw_Meterial_for_Direct_Metal_Printing',\n",
       "       'Metalferrous_Asteroids_fopr_resources',\n",
       "       'Near_Earth_Asteroid_Retrieval_Mission__ARM__Study',\n",
       "       'Assessment_on_the_feasibility_of_future_shepherding_of_asteroid_resources',\n",
       "       'Interplanetary_Trajectories',\n",
       "       'Compact_and_lightweight_sabiater_reactor',\n",
       "       'Launch_And_Deployment_of_Distributed_Small_Satelite_Systems',\n",
       "       'How_Many_Asay_Probes',\n",
       "       'The_technical_and_economic_feasibility_of_Asteroid_Mining',\n",
       "       'BANKERT_DISSERTATION_2017',\n",
       "       'Astronomical_prospecting_of_asteroid_resources',\n",
       "       'Small_Spacecraft_Design', 'ScienceMatters_2nd_2009',\n",
       "       'Radiation_Sgeilding_Design_Stratigies',\n",
       "       'Designing_from_minimum_to_optimal', 'Delta_V_map_of_NEOs',\n",
       "       'Validating_the_1_cm_Orbit',\n",
       "       'Multi_Robot_Assyembly_Stratigies_and_Metrics',\n",
       "       'Mineralogy_and_Surface_Composition_of_Asteroids',\n",
       "       'Asteroid_Mining_Methods', 'Interplanetary_Cubsats', 'Ninety_day_study',\n",
       "       'HowManyOreBearingAsteroids_PUBLISHED',\n",
       "       'Sintering_of_Micro_Trusses_created_by_extrusion_3D_printing_of_Lunar_Regolith',\n",
       "       'Establishing_a_framework_for_studying_the_emerging_cislunar_economy',\n",
       "       'Space_Architecture',\n",
       "       'Materials_and_design_concepts_for_space_resilient_structures',\n",
       "       'Space_Archeticture_Education',\n",
       "       'Superconducting_Magnets_as_Radiation_Sheilding',\n",
       "       'Materials_Processing_In_Space', 'SICSA_Human_Saftey_in_Space',\n",
       "       'Comparitive_Analysis_of_Redirection_Methods_fro_Asteroid_Resurce_Exploitation_',\n",
       "       'Inflateables_Thesis_Presentation',\n",
       "       'Distributed_discovery_syatem_for_astronomical_data',\n",
       "       'Spectral_properties_of_near_Earth_and_Mars_crossing_asteroids_using_Sloan_photometry',\n",
       "       'NEOShield_2_D11_1_i1__Report_on_a_Future_NEO_physical_properties_database',\n",
       "       'The_Need_For_Speed_In_NEO_Charactization',\n",
       "       'The_politics_of_space_mining', 'Electromagnetic_Launch',\n",
       "       'How_many_ore_bearing_asteroids_',\n",
       "       'Plasma_Assisted_Catalytic_Methanation'],\n",
       "      dtype='object')"
      ]
     },
     "execution_count": 146,
     "metadata": {},
     "output_type": "execute_result"
    }
   ],
   "source": [
    "df.index"
   ]
  },
  {
   "cell_type": "code",
   "execution_count": 144,
   "metadata": {},
   "outputs": [],
   "source": [
    "example.nuke_it()"
   ]
  },
  {
   "cell_type": "code",
   "execution_count": 145,
   "metadata": {},
   "outputs": [
    {
     "ename": "KeyboardInterrupt",
     "evalue": "decoding with 'utf-8' codec failed (KeyboardInterrupt: )",
     "output_type": "error",
     "traceback": [
      "\u001b[0;31m---------------------------------------------------------------------------\u001b[0m",
      "\u001b[0;31mKeyboardInterrupt\u001b[0m                         Traceback (most recent call last)",
      "\u001b[0;32m/Applications/anaconda3/lib/python3.7/encodings/utf_8.py\u001b[0m in \u001b[0;36mdecode\u001b[0;34m(input, errors)\u001b[0m\n\u001b[1;32m     14\u001b[0m \u001b[0;34m\u001b[0m\u001b[0m\n\u001b[0;32m---> 15\u001b[0;31m \u001b[0;32mdef\u001b[0m \u001b[0mdecode\u001b[0m\u001b[0;34m(\u001b[0m\u001b[0minput\u001b[0m\u001b[0;34m,\u001b[0m \u001b[0merrors\u001b[0m\u001b[0;34m=\u001b[0m\u001b[0;34m'strict'\u001b[0m\u001b[0;34m)\u001b[0m\u001b[0;34m:\u001b[0m\u001b[0;34m\u001b[0m\u001b[0m\n\u001b[0m\u001b[1;32m     16\u001b[0m     \u001b[0;32mreturn\u001b[0m \u001b[0mcodecs\u001b[0m\u001b[0;34m.\u001b[0m\u001b[0mutf_8_decode\u001b[0m\u001b[0;34m(\u001b[0m\u001b[0minput\u001b[0m\u001b[0;34m,\u001b[0m \u001b[0merrors\u001b[0m\u001b[0;34m,\u001b[0m \u001b[0;32mTrue\u001b[0m\u001b[0;34m)\u001b[0m\u001b[0;34m\u001b[0m\u001b[0m\n",
      "\u001b[0;31mKeyboardInterrupt\u001b[0m: ",
      "\nThe above exception was the direct cause of the following exception:\n",
      "\u001b[0;31mKeyboardInterrupt\u001b[0m                         Traceback (most recent call last)",
      "\u001b[0;32m<ipython-input-145-0f77cee3fa85>\u001b[0m in \u001b[0;36m<module>\u001b[0;34m()\u001b[0m\n\u001b[1;32m     24\u001b[0m         \u001b[0;31m# Execute Author connection statement\u001b[0m\u001b[0;34m\u001b[0m\u001b[0;34m\u001b[0m\u001b[0m\n\u001b[1;32m     25\u001b[0m         \u001b[0;31m#print(author_connection)\u001b[0m\u001b[0;34m\u001b[0m\u001b[0;34m\u001b[0m\u001b[0m\n\u001b[0;32m---> 26\u001b[0;31m         \u001b[0mexample\u001b[0m\u001b[0;34m.\u001b[0m\u001b[0mrun\u001b[0m\u001b[0;34m(\u001b[0m\u001b[0mauthor_connection\u001b[0m\u001b[0;34m)\u001b[0m\u001b[0;34m\u001b[0m\u001b[0m\n\u001b[0m\u001b[1;32m     27\u001b[0m \u001b[0;34m\u001b[0m\u001b[0m\n\u001b[1;32m     28\u001b[0m     \u001b[0;31m#print('\\n\\n')\u001b[0m\u001b[0;34m\u001b[0m\u001b[0;34m\u001b[0m\u001b[0m\n",
      "\u001b[0;32m<ipython-input-73-2c27233bd636>\u001b[0m in \u001b[0;36mrun\u001b[0;34m(self, string)\u001b[0m\n\u001b[1;32m     12\u001b[0m     \u001b[0;32mdef\u001b[0m \u001b[0mrun\u001b[0m\u001b[0;34m(\u001b[0m\u001b[0mself\u001b[0m\u001b[0;34m,\u001b[0m \u001b[0mstring\u001b[0m\u001b[0;34m)\u001b[0m\u001b[0;34m:\u001b[0m\u001b[0;34m\u001b[0m\u001b[0m\n\u001b[1;32m     13\u001b[0m         \u001b[0;32mwith\u001b[0m \u001b[0mself\u001b[0m\u001b[0;34m.\u001b[0m\u001b[0m_driver\u001b[0m\u001b[0;34m.\u001b[0m\u001b[0msession\u001b[0m\u001b[0;34m(\u001b[0m\u001b[0;34m)\u001b[0m \u001b[0;32mas\u001b[0m \u001b[0msession\u001b[0m\u001b[0;34m:\u001b[0m\u001b[0;34m\u001b[0m\u001b[0m\n\u001b[0;32m---> 14\u001b[0;31m             \u001b[0msession\u001b[0m\u001b[0;34m.\u001b[0m\u001b[0mrun\u001b[0m\u001b[0;34m(\u001b[0m\u001b[0mstring\u001b[0m\u001b[0;34m)\u001b[0m\u001b[0;34m\u001b[0m\u001b[0m\n\u001b[0m\u001b[1;32m     15\u001b[0m \u001b[0;34m\u001b[0m\u001b[0m\n\u001b[1;32m     16\u001b[0m \u001b[0;34m\u001b[0m\u001b[0m\n",
      "\u001b[0;32m/Applications/anaconda3/lib/python3.7/site-packages/neo4j/__init__.py\u001b[0m in \u001b[0;36m__exit__\u001b[0;34m(self, exc_type, exc_value, traceback)\u001b[0m\n\u001b[1;32m    368\u001b[0m \u001b[0;34m\u001b[0m\u001b[0m\n\u001b[1;32m    369\u001b[0m     \u001b[0;32mdef\u001b[0m \u001b[0m__exit__\u001b[0m\u001b[0;34m(\u001b[0m\u001b[0mself\u001b[0m\u001b[0;34m,\u001b[0m \u001b[0mexc_type\u001b[0m\u001b[0;34m,\u001b[0m \u001b[0mexc_value\u001b[0m\u001b[0;34m,\u001b[0m \u001b[0mtraceback\u001b[0m\u001b[0;34m)\u001b[0m\u001b[0;34m:\u001b[0m\u001b[0;34m\u001b[0m\u001b[0m\n\u001b[0;32m--> 370\u001b[0;31m         \u001b[0mself\u001b[0m\u001b[0;34m.\u001b[0m\u001b[0mclose\u001b[0m\u001b[0;34m(\u001b[0m\u001b[0;34m)\u001b[0m\u001b[0;34m\u001b[0m\u001b[0m\n\u001b[0m\u001b[1;32m    371\u001b[0m \u001b[0;34m\u001b[0m\u001b[0m\n\u001b[1;32m    372\u001b[0m     \u001b[0;32mdef\u001b[0m \u001b[0m_connect\u001b[0m\u001b[0;34m(\u001b[0m\u001b[0mself\u001b[0m\u001b[0;34m,\u001b[0m \u001b[0maccess_mode\u001b[0m\u001b[0;34m=\u001b[0m\u001b[0;32mNone\u001b[0m\u001b[0;34m)\u001b[0m\u001b[0;34m:\u001b[0m\u001b[0;34m\u001b[0m\u001b[0m\n",
      "\u001b[0;32m/Applications/anaconda3/lib/python3.7/site-packages/neo4j/__init__.py\u001b[0m in \u001b[0;36mclose\u001b[0;34m(self)\u001b[0m\n\u001b[1;32m    393\u001b[0m                 \u001b[0mself\u001b[0m\u001b[0;34m.\u001b[0m\u001b[0m_transaction\u001b[0m \u001b[0;34m=\u001b[0m \u001b[0;32mNone\u001b[0m\u001b[0;34m\u001b[0m\u001b[0m\n\u001b[1;32m    394\u001b[0m             \u001b[0;32mtry\u001b[0m\u001b[0;34m:\u001b[0m\u001b[0;34m\u001b[0m\u001b[0m\n\u001b[0;32m--> 395\u001b[0;31m                 \u001b[0mself\u001b[0m\u001b[0;34m.\u001b[0m\u001b[0m_connection\u001b[0m\u001b[0;34m.\u001b[0m\u001b[0msync\u001b[0m\u001b[0;34m(\u001b[0m\u001b[0;34m)\u001b[0m\u001b[0;34m\u001b[0m\u001b[0m\n\u001b[0m\u001b[1;32m    396\u001b[0m             except (ConnectionExpired, CypherError, TransactionError,\n\u001b[1;32m    397\u001b[0m                     ServiceUnavailable, SessionError):\n",
      "\u001b[0;32m/Applications/anaconda3/lib/python3.7/site-packages/neobolt/direct.py\u001b[0m in \u001b[0;36msync\u001b[0;34m(self)\u001b[0m\n\u001b[1;32m    529\u001b[0m             \u001b[0mresponse\u001b[0m \u001b[0;34m=\u001b[0m \u001b[0mself\u001b[0m\u001b[0;34m.\u001b[0m\u001b[0mresponses\u001b[0m\u001b[0;34m[\u001b[0m\u001b[0;36m0\u001b[0m\u001b[0;34m]\u001b[0m\u001b[0;34m\u001b[0m\u001b[0m\n\u001b[1;32m    530\u001b[0m             \u001b[0;32mwhile\u001b[0m \u001b[0;32mnot\u001b[0m \u001b[0mresponse\u001b[0m\u001b[0;34m.\u001b[0m\u001b[0mcomplete\u001b[0m\u001b[0;34m:\u001b[0m\u001b[0;34m\u001b[0m\u001b[0m\n\u001b[0;32m--> 531\u001b[0;31m                 \u001b[0mdetail_delta\u001b[0m\u001b[0;34m,\u001b[0m \u001b[0msummary_delta\u001b[0m \u001b[0;34m=\u001b[0m \u001b[0mself\u001b[0m\u001b[0;34m.\u001b[0m\u001b[0mfetch\u001b[0m\u001b[0;34m(\u001b[0m\u001b[0;34m)\u001b[0m\u001b[0;34m\u001b[0m\u001b[0m\n\u001b[0m\u001b[1;32m    532\u001b[0m                 \u001b[0mdetail_count\u001b[0m \u001b[0;34m+=\u001b[0m \u001b[0mdetail_delta\u001b[0m\u001b[0;34m\u001b[0m\u001b[0m\n\u001b[1;32m    533\u001b[0m                 \u001b[0msummary_count\u001b[0m \u001b[0;34m+=\u001b[0m \u001b[0msummary_delta\u001b[0m\u001b[0;34m\u001b[0m\u001b[0m\n",
      "\u001b[0;32m/Applications/anaconda3/lib/python3.7/site-packages/neobolt/direct.py\u001b[0m in \u001b[0;36mfetch\u001b[0;34m(self)\u001b[0m\n\u001b[1;32m    420\u001b[0m     \u001b[0;32mdef\u001b[0m \u001b[0mfetch\u001b[0m\u001b[0;34m(\u001b[0m\u001b[0mself\u001b[0m\u001b[0;34m)\u001b[0m\u001b[0;34m:\u001b[0m\u001b[0;34m\u001b[0m\u001b[0m\n\u001b[1;32m    421\u001b[0m         \u001b[0;32mtry\u001b[0m\u001b[0;34m:\u001b[0m\u001b[0;34m\u001b[0m\u001b[0m\n\u001b[0;32m--> 422\u001b[0;31m             \u001b[0;32mreturn\u001b[0m \u001b[0mself\u001b[0m\u001b[0;34m.\u001b[0m\u001b[0m_fetch\u001b[0m\u001b[0;34m(\u001b[0m\u001b[0;34m)\u001b[0m\u001b[0;34m\u001b[0m\u001b[0m\n\u001b[0m\u001b[1;32m    423\u001b[0m         \u001b[0;32mexcept\u001b[0m \u001b[0mself\u001b[0m\u001b[0;34m.\u001b[0m\u001b[0merror_handler\u001b[0m\u001b[0;34m.\u001b[0m\u001b[0mknown_errors\u001b[0m \u001b[0;32mas\u001b[0m \u001b[0merror\u001b[0m\u001b[0;34m:\u001b[0m\u001b[0;34m\u001b[0m\u001b[0m\n\u001b[1;32m    424\u001b[0m             \u001b[0mself\u001b[0m\u001b[0;34m.\u001b[0m\u001b[0merror_handler\u001b[0m\u001b[0;34m.\u001b[0m\u001b[0mhandle\u001b[0m\u001b[0;34m(\u001b[0m\u001b[0merror\u001b[0m\u001b[0;34m,\u001b[0m \u001b[0mself\u001b[0m\u001b[0;34m.\u001b[0m\u001b[0munresolved_address\u001b[0m\u001b[0;34m)\u001b[0m\u001b[0;34m\u001b[0m\u001b[0m\n",
      "\u001b[0;32m/Applications/anaconda3/lib/python3.7/site-packages/neobolt/direct.py\u001b[0m in \u001b[0;36m_fetch\u001b[0;34m(self)\u001b[0m\n\u001b[1;32m    443\u001b[0m         \u001b[0mself\u001b[0m\u001b[0;34m.\u001b[0m\u001b[0m_receive\u001b[0m\u001b[0;34m(\u001b[0m\u001b[0;34m)\u001b[0m\u001b[0;34m\u001b[0m\u001b[0m\n\u001b[1;32m    444\u001b[0m \u001b[0;34m\u001b[0m\u001b[0m\n\u001b[0;32m--> 445\u001b[0;31m         \u001b[0mdetails\u001b[0m\u001b[0;34m,\u001b[0m \u001b[0msummary_signature\u001b[0m\u001b[0;34m,\u001b[0m \u001b[0msummary_metadata\u001b[0m \u001b[0;34m=\u001b[0m \u001b[0mself\u001b[0m\u001b[0;34m.\u001b[0m\u001b[0m_unpack\u001b[0m\u001b[0;34m(\u001b[0m\u001b[0;34m)\u001b[0m\u001b[0;34m\u001b[0m\u001b[0m\n\u001b[0m\u001b[1;32m    446\u001b[0m \u001b[0;34m\u001b[0m\u001b[0m\n\u001b[1;32m    447\u001b[0m         \u001b[0;32mif\u001b[0m \u001b[0mdetails\u001b[0m\u001b[0;34m:\u001b[0m\u001b[0;34m\u001b[0m\u001b[0m\n",
      "\u001b[0;32m/Applications/anaconda3/lib/python3.7/site-packages/neobolt/direct.py\u001b[0m in \u001b[0;36m_unpack\u001b[0;34m(self)\u001b[0m\n\u001b[1;32m    512\u001b[0m             \u001b[0;32melse\u001b[0m\u001b[0;34m:\u001b[0m\u001b[0;34m\u001b[0m\u001b[0m\n\u001b[1;32m    513\u001b[0m                 \u001b[0msummary_signature\u001b[0m \u001b[0;34m=\u001b[0m \u001b[0msignature\u001b[0m\u001b[0;34m\u001b[0m\u001b[0m\n\u001b[0;32m--> 514\u001b[0;31m                 \u001b[0msummary_metadata\u001b[0m \u001b[0;34m=\u001b[0m \u001b[0munpacker\u001b[0m\u001b[0;34m.\u001b[0m\u001b[0munpack_map\u001b[0m\u001b[0;34m(\u001b[0m\u001b[0;34m)\u001b[0m\u001b[0;34m\u001b[0m\u001b[0m\n\u001b[0m\u001b[1;32m    515\u001b[0m                 \u001b[0mmore\u001b[0m \u001b[0;34m=\u001b[0m \u001b[0;32mFalse\u001b[0m\u001b[0;34m\u001b[0m\u001b[0m\n\u001b[1;32m    516\u001b[0m         \u001b[0;32mreturn\u001b[0m \u001b[0mdetails\u001b[0m\u001b[0;34m,\u001b[0m \u001b[0msummary_signature\u001b[0m\u001b[0;34m,\u001b[0m \u001b[0msummary_metadata\u001b[0m\u001b[0;34m\u001b[0m\u001b[0m\n",
      "\u001b[0;32mneobolt/packstream/_unpacker.pyx\u001b[0m in \u001b[0;36mneobolt.packstream._unpacker.Unpacker.unpack_map\u001b[0;34m()\u001b[0m\n",
      "\u001b[0;32mneobolt/packstream/_unpacker.pyx\u001b[0m in \u001b[0;36mneobolt.packstream._unpacker.Unpacker.unpack_map\u001b[0;34m()\u001b[0m\n",
      "\u001b[0;32mneobolt/packstream/_unpacker.pyx\u001b[0m in \u001b[0;36mneobolt.packstream._unpacker.Unpacker._unpack_map\u001b[0;34m()\u001b[0m\n",
      "\u001b[0;32mneobolt/packstream/_unpacker.pyx\u001b[0m in \u001b[0;36mneobolt.packstream._unpacker.Unpacker._unpack\u001b[0;34m()\u001b[0m\n",
      "\u001b[0;31mKeyboardInterrupt\u001b[0m: decoding with 'utf-8' codec failed (KeyboardInterrupt: )"
     ]
    }
   ],
   "source": [
    "for i in df.index.tolist():\n",
    "    \n",
    "    # Paper CREATE statement\n",
    "    paper_statement = \"CREATE ({papername}:Paper {{name: '{papername}'}})\"\\\n",
    "        .format(papername = str(i))\n",
    "    \n",
    "    # Execute Paper CREATE statement\n",
    "    #print(paper_statement)\n",
    "    example.run(paper_statement)\n",
    "    \n",
    "    for person in df.at[i, 'people']:\n",
    "\n",
    "        person = re.sub('[^a-zA-Z]+', '_', person)\n",
    "\n",
    "        # Person CREATE statement\n",
    "        person_statement = \"CREATE ({person}:Person {{name: '{person}'}})\"\\\n",
    "        .format(person = str(person))\n",
    "        \n",
    "        # Execute Person CREATE statement\n",
    "        #print(person_statement)\n",
    "        example.run(person_statement)\n",
    "        \n",
    "        # Author connection statement\n",
    "        author_connection = \"CREATE ({person})-[:WROTE]->({papername})\"\\\n",
    "        .format(person = str(person), papername = str(i))\n",
    "        \n",
    "        # Execute Author connection statement\n",
    "        #print(author_connection)\n",
    "        example.run(author_connection)\n",
    "        \n",
    "    #print('\\n\\n')\n",
    "    \n"
   ]
  },
  {
   "cell_type": "code",
   "execution_count": null,
   "metadata": {},
   "outputs": [],
   "source": []
  }
 ],
 "metadata": {
  "kernelspec": {
   "display_name": "Python 3",
   "language": "python",
   "name": "python3"
  },
  "language_info": {
   "codemirror_mode": {
    "name": "ipython",
    "version": 3
   },
   "file_extension": ".py",
   "mimetype": "text/x-python",
   "name": "python",
   "nbconvert_exporter": "python",
   "pygments_lexer": "ipython3",
   "version": "3.7.0"
  }
 },
 "nbformat": 4,
 "nbformat_minor": 2
}
