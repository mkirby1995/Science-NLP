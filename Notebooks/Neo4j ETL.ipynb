{
 "cells": [
  {
   "cell_type": "code",
   "execution_count": 31,
   "metadata": {},
   "outputs": [],
   "source": [
    "from neo4j import GraphDatabase"
   ]
  },
  {
   "cell_type": "code",
   "execution_count": null,
   "metadata": {},
   "outputs": [],
   "source": [
    "class neo4j_connection:\n",
    "    \n",
    "    \n",
    "    def __init__(self, uri, user, password):\n",
    "        self._driver = GraphDatabase.driver(uri, auth=(user, password))\n",
    "        \n",
    "        \n",
    "    def close(self):\n",
    "        self._driver.close()\n",
    "\n",
    "        \n",
    "    def run(self, string):\n",
    "        with self._driver.session() as session:\n",
    "            session.run(string) \n",
    "        \n",
    "        \n",
    "    def nuke_it(self):\n",
    "        nuke_string = \"\"\"\n",
    "            MATCH (n)\n",
    "            DETACH DELETE n\n",
    "            \"\"\"\n",
    "        with self._driver.session() as session:\n",
    "            session.run(nuke_string)"
   ]
  },
  {
   "cell_type": "code",
   "execution_count": 33,
   "metadata": {},
   "outputs": [],
   "source": [
    "uri = \"bolt://localhost:7687\"\n",
    "user = \"neo4j\"\n",
    "password = \"47westrange\""
   ]
  },
  {
   "cell_type": "code",
   "execution_count": 34,
   "metadata": {},
   "outputs": [],
   "source": [
    "example = neo4j_connection(uri, user, password)"
   ]
  },
  {
   "cell_type": "code",
   "execution_count": 35,
   "metadata": {},
   "outputs": [],
   "source": [
    "example.run(\"\"\"\n",
    "    CREATE (john:Person {name: 'John'})\n",
    "    CREATE (joe:Person {name: 'Joe'})\n",
    "    CREATE (steve:Person {name: 'Steve'})\n",
    "    CREATE (sara:Person {name: 'Sara'})\n",
    "    CREATE (maria:Person {name: 'Maria'})\n",
    "    CREATE (john)-[:FRIEND]->(joe)-[:FRIEND]->(steve)\n",
    "    CREATE (john)-[:FRIEND]->(sara)-[:FRIEND]->(maria)\n",
    "\"\"\")"
   ]
  },
  {
   "cell_type": "code",
   "execution_count": 36,
   "metadata": {},
   "outputs": [],
   "source": [
    "example.nuke_it()"
   ]
  },
  {
   "cell_type": "code",
   "execution_count": 37,
   "metadata": {},
   "outputs": [],
   "source": [
    "example.close()"
   ]
  },
  {
   "cell_type": "code",
   "execution_count": 46,
   "metadata": {},
   "outputs": [],
   "source": [
    "import json\n",
    "\n",
    "with open('/Users/mattkirby/repos/Science-NLP/documents.json') as json_file:\n",
    "    data = dict(json.load(json_file))"
   ]
  },
  {
   "cell_type": "code",
   "execution_count": 55,
   "metadata": {},
   "outputs": [],
   "source": [
    "import pandas as pd\n",
    "\n",
    "df = pd.DataFrame(data).T"
   ]
  },
  {
   "cell_type": "code",
   "execution_count": 56,
   "metadata": {},
   "outputs": [
    {
     "data": {
      "text/plain": [
       "Index(['contents', 'emails', 'filename', 'institutions', 'people', 'places'], dtype='object')"
      ]
     },
     "execution_count": 56,
     "metadata": {},
     "output_type": "execute_result"
    }
   ],
   "source": [
    "df.columns"
   ]
  },
  {
   "cell_type": "code",
   "execution_count": 57,
   "metadata": {},
   "outputs": [
    {
     "data": {
      "text/plain": [
       "Index(['Navigation to Small Bodies', 'ASTRONOMICAL ENGINEERING',\n",
       "       'Phase II of the Main Belt Asteroid Spectrosopic Survey',\n",
       "       'Devlopment of Xenon Hall Thrusters',\n",
       "       'Mine planning for Asteroid Ore Bodies', 'CSR in space',\n",
       "       'Interplanetary Trajectory', 'SmallSat Constelation',\n",
       "       'Directed Passpermia', 'The Rise of Interplanetary Cubesats',\n",
       "       'Launch and Deployment of Distributted Small Satelite Systems',\n",
       "       'Options and Uncertanties in Planetary Defence',\n",
       "       'The Compositional Structure of The Asteroid Belt',\n",
       "       'Vacuum induction melting of NiTi shape memory', 'Project NERVA',\n",
       "       'NEO Characterization',\n",
       "       'Photometric survey and taxonomic identifications of 92 near-Earth asteroids',\n",
       "       'Organic matter preserved in 3 billion year old mudstones',\n",
       "       'Defining a Successful Asteroid Mining Program', 'Novum',\n",
       "       'New Venice Project', 'Asteroid Retrieval Feasibility',\n",
       "       'Meterorite as raw Meterial for Direct Metal Printing',\n",
       "       'Metalferrous Asteroids fopr resources',\n",
       "       'Near-Earth Asteroid Retrieval Mission (ARM) Study',\n",
       "       'Assessment on the feasibility of future shepherding of asteroid resources',\n",
       "       'Interplanetary Trajectories',\n",
       "       'Compact and lightweight sabiater reactor',\n",
       "       'Launch And Deployment of Distributed Small Satelite Systems',\n",
       "       'How Many Asay Probes',\n",
       "       'The technical and economic feasibility of Asteroid Mining',\n",
       "       'BANKERT-DISSERTATION-2017',\n",
       "       'Astronomical prospecting of asteroid resources',\n",
       "       'Small Spacecraft Design', 'ScienceMatters-2nd-2009',\n",
       "       'Radiation Sgeilding Design Stratigies',\n",
       "       'Designing from minimum to optimal', 'Delta V map of NEOs',\n",
       "       'Validating the 1-cm Orbit',\n",
       "       'Multi Robot Assyembly Stratigies and Metrics',\n",
       "       'Mineralogy and Surface Composition of Asteroids',\n",
       "       'Asteroid Mining Methods', 'Interplanetary Cubsats', '90_day_study',\n",
       "       'HowManyOreBearingAsteroids_PUBLISHED',\n",
       "       'Sintering of Micro Trusses created by extrusion 3D printing of Lunar Regolith',\n",
       "       'Establishing a framework for studying the emerging cislunar economy',\n",
       "       'Space Architecture',\n",
       "       'Materials and design concepts for space resilient structures',\n",
       "       'Space Archeticture Education',\n",
       "       'Superconducting Magnets as Radiation Sheilding',\n",
       "       'Materials Processing In Space', 'SICSA Human Saftey in Space',\n",
       "       'Comparitive Analysis of Redirection Methods fro Asteroid Resurce Exploitation ',\n",
       "       'Inflateables Thesis Presentation',\n",
       "       'Distributed discovery syatem for astronomical data',\n",
       "       'Spectral properties of near-Earth and Mars-crossing asteroids using Sloan photometry',\n",
       "       'NEOShield-2_D11.1_i1__Report-on-a-Future-NEO-physical-properties-database',\n",
       "       'The Need For Speed In NEO Charactization',\n",
       "       'The politics of space mining', 'Electromagnetic Launch',\n",
       "       'How many ore-bearing asteroids?',\n",
       "       'Plasma Assisted Catalytic Methanation'],\n",
       "      dtype='object')"
      ]
     },
     "execution_count": 57,
     "metadata": {},
     "output_type": "execute_result"
    }
   ],
   "source": [
    "df.index"
   ]
  },
  {
   "cell_type": "code",
   "execution_count": null,
   "metadata": {},
   "outputs": [],
   "source": []
  }
 ],
 "metadata": {
  "kernelspec": {
   "display_name": "Python 3",
   "language": "python",
   "name": "python3"
  },
  "language_info": {
   "codemirror_mode": {
    "name": "ipython",
    "version": 3
   },
   "file_extension": ".py",
   "mimetype": "text/x-python",
   "name": "python",
   "nbconvert_exporter": "python",
   "pygments_lexer": "ipython3",
   "version": "3.7.0"
  }
 },
 "nbformat": 4,
 "nbformat_minor": 2
}
